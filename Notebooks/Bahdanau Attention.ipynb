{
 "cells": [
  {
   "cell_type": "code",
   "execution_count": 1,
   "metadata": {},
   "outputs": [],
   "source": [
    "import torch\n",
    "from torch import nn\n",
    "import torch.nn.functional as F"
   ]
  },
  {
   "cell_type": "markdown",
   "metadata": {},
   "source": [
    "### Method 1"
   ]
  },
  {
   "cell_type": "code",
   "execution_count": 2,
   "metadata": {},
   "outputs": [
    {
     "name": "stderr",
     "output_type": "stream",
     "text": [
      "C:\\Users\\User\\AppData\\Local\\Temp\\ipykernel_11772\\1140452722.py:19: UserWarning: Implicit dimension choice for softmax has been deprecated. Change the call to include dim=X as an argument.\n",
      "  weights = F.softmax(score)\n"
     ]
    }
   ],
   "source": [
    "class BahdanauAttention(nn.Module):\n",
    "    def __init__(self, hidden_size, debugging=False):\n",
    "        super(BahdanauAttention, self).__init__()\n",
    "        self.debugging = debugging\n",
    "        self.hidden_size = hidden_size\n",
    "        self.W = nn.Linear(hidden_size, hidden_size)\n",
    "        self.U = nn.Linear(hidden_size, hidden_size)\n",
    "        self.V = nn.Linear(hidden_size, 1)\n",
    "\n",
    "    def forward(self, decoder_hidden, encoder_output):\n",
    "        # decoder hidden shape = (batch_size, hidden_size)\n",
    "        # encoder output shape = (seq_len, batch_size, hidden_size)\n",
    "       \n",
    "        #add an extra dimension to match the query\n",
    "        decoder_hidden = decoder_hidden.unsqueeze(0)\n",
    "        #compute attention/alignment score\n",
    "        score = self.V(F.tanh(self.W(decoder_hidden) + self.U(encoder_output)))\n",
    "        #compute attention weights\n",
    "        weights = F.softmax(score)\n",
    "        #compute the context vector\n",
    "        context = torch.sum(weights * encoder_output, dim=0)\n",
    "\n",
    "        if self.debugging:\n",
    "            print(\"Encoder Output Shape\", encoder_output.shape)\n",
    "            print(\"Decoder Hidden Shape\", decoder_hidden.shape)\n",
    "            print(\"Attention Weights Shape\", weights.shape)\n",
    "            print(\"Attention Context Shape\", context.shape)\n",
    "\n",
    "        return context, weights\n",
    "    \n",
    "hidden_size = 512\n",
    "attention = BahdanauAttention(hidden_size)\n",
    "decoder_hidden = torch.zeros([32, hidden_size])\n",
    "encoder_output = torch.zeros([21, 32, hidden_size])\n",
    "context, weight = attention(decoder_hidden, encoder_output)"
   ]
  },
  {
   "cell_type": "markdown",
   "metadata": {},
   "source": [
    "### Method 2"
   ]
  },
  {
   "cell_type": "code",
   "execution_count": 6,
   "metadata": {},
   "outputs": [
    {
     "name": "stdout",
     "output_type": "stream",
     "text": [
      "Encoder Output Shape (Attention) torch.Size([21, 32, 512])\n",
      "Decoder Hidden Shape (Attention) torch.Size([21, 32, 512])\n",
      "Attention Score Shape torch.Size([21, 32, 1])\n",
      "Attention Weights Shape torch.Size([21, 32, 1])\n",
      "Attention Context Shape torch.Size([32, 512])\n"
     ]
    },
    {
     "name": "stderr",
     "output_type": "stream",
     "text": [
      "C:\\Users\\User\\AppData\\Local\\Temp\\ipykernel_4556\\4191869329.py:21: UserWarning: Implicit dimension choice for softmax has been deprecated. Change the call to include dim=X as an argument.\n",
      "  weights = F.softmax(scores)\n"
     ]
    }
   ],
   "source": [
    "class BahdanauAttention(nn.Module):\n",
    "    def __init__(self, hidden_size, debugging=False):\n",
    "        super(BahdanauAttention, self).__init__()\n",
    "        self.debugging = debugging\n",
    "        self.hidden_size = hidden_size\n",
    "        self.W = nn.Linear(hidden_size, hidden_size)\n",
    "        self.U = nn.Linear(hidden_size, hidden_size)\n",
    "        self.V = nn.Linear(hidden_size, 1)\n",
    "\n",
    "    def forward(self, decoder_hidden, encoder_output):\n",
    "        # decoder_hidden shape = (batch_size, hidden_size)\n",
    "        # encoder_output shape = (seq_len, batch_size, hidden_size)\n",
    "        print(\"Encoder Output Shape (Attention)\", encoder_output.shape)\n",
    "        # Expand decoder hidden state to match the shape of encoder output\n",
    "        decoder_hidden = decoder_hidden.unsqueeze(1).repeat(1, encoder_output.shape[0], 1).permute(1, 0, 2)\n",
    "        print(\"Decoder Hidden Shape (Attention)\", decoder_hidden.shape)\n",
    "        # Compute attention scores\n",
    "        scores = self.V(torch.tanh(self.W(decoder_hidden) + self.U(encoder_output)))\n",
    "        print(\"Attention Score Shape\", scores.shape)\n",
    "        # Compute attention weights\n",
    "        weights = F.softmax(scores)\n",
    "        print(\"Attention Weights Shape\", weights.shape)\n",
    "        # Compute the context vector\n",
    "        context = torch.sum(weights * encoder_output, dim=0)\n",
    "        print(\"Attention Context Shape\", context.shape)\n",
    "\n",
    "        if self.debugging:\n",
    "            print(\"Encoder Output Shape:\", encoder_output.shape)\n",
    "            print(\"Decoder Hidden Shape:\", decoder_hidden.shape)\n",
    "            print(\"Attention Context Shape:\", context.shape)\n",
    "            print(\"Attention Weights Shape:\", weights.shape)\n",
    "\n",
    "        return context, weights\n",
    "    \n",
    "hidden_size = 512\n",
    "attention = BahdanauAttention(hidden_size)\n",
    "decoder_hidden = torch.zeros([32, hidden_size])\n",
    "encoder_output = torch.zeros([21, 32, hidden_size])\n",
    "context, weight = attention(decoder_hidden, encoder_output)"
   ]
  }
 ],
 "metadata": {
  "kernelspec": {
   "display_name": "ml",
   "language": "python",
   "name": "python3"
  },
  "language_info": {
   "codemirror_mode": {
    "name": "ipython",
    "version": 3
   },
   "file_extension": ".py",
   "mimetype": "text/x-python",
   "name": "python",
   "nbconvert_exporter": "python",
   "pygments_lexer": "ipython3",
   "version": "3.10.13"
  }
 },
 "nbformat": 4,
 "nbformat_minor": 2
}
